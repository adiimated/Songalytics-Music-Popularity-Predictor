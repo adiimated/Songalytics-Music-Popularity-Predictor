{
  "nbformat": 4,
  "nbformat_minor": 0,
  "metadata": {
    "colab": {
      "provenance": [],
      "gpuType": "T4"
    },
    "kernelspec": {
      "name": "python3",
      "display_name": "Python 3"
    },
    "language_info": {
      "name": "python"
    },
    "accelerator": "GPU"
  },
  "cells": [
    {
      "cell_type": "code",
      "execution_count": 12,
      "metadata": {
        "colab": {
          "base_uri": "https://localhost:8080/"
        },
        "id": "nHwRRar1GDMf",
        "outputId": "61611cbf-9cd9-4c01-a75c-b2e0523427cd"
      },
      "outputs": [
        {
          "output_type": "stream",
          "name": "stdout",
          "text": [
            "Drive already mounted at /content/drive; to attempt to forcibly remount, call drive.mount(\"/content/drive\", force_remount=True).\n"
          ]
        }
      ],
      "source": [
        "from google.colab import drive\n",
        "drive.mount('/content/drive')"
      ]
    },
    {
      "cell_type": "code",
      "source": [
        "import os\n",
        "os.chdir('/content/drive/MyDrive/Colab Notebooks/spotify')"
      ],
      "metadata": {
        "id": "II7HEU_gGUfu"
      },
      "execution_count": 13,
      "outputs": []
    },
    {
      "cell_type": "code",
      "source": [
        "import pandas as pd\n",
        "import numpy as np"
      ],
      "metadata": {
        "id": "zhZgUeqYGW9j"
      },
      "execution_count": 14,
      "outputs": []
    },
    {
      "cell_type": "code",
      "source": [
        "data = pd.read_csv('dataset/cleaned_data.csv')"
      ],
      "metadata": {
        "id": "e2kWeQM_Glcc"
      },
      "execution_count": 15,
      "outputs": []
    },
    {
      "cell_type": "code",
      "source": [
        "from sklearn.model_selection import train_test_split\n",
        "from sklearn.preprocessing import StandardScaler, LabelEncoder\n",
        "\n",
        "data = data.drop(columns=['popularity_category'])\n",
        "\n",
        "le = LabelEncoder()\n",
        "categorical_cols = ['artists', 'album_name', 'track_name', 'track_genre']\n",
        "data[categorical_cols] = data[categorical_cols].apply(le.fit_transform)\n",
        "\n",
        "X = data.drop('popularity', axis=1)  # Features\n",
        "y = data['popularity']  # Target variable\n",
        "\n",
        "X_train, X_test, y_train, y_test = train_test_split(X, y, test_size=0.2, random_state=42)\n",
        "\n",
        "scaler = StandardScaler()\n",
        "X_train_scaled = scaler.fit_transform(X_train)\n",
        "X_test_scaled = scaler.transform(X_test)"
      ],
      "metadata": {
        "id": "KxkYHvkxGc0x"
      },
      "execution_count": 5,
      "outputs": []
    },
    {
      "cell_type": "code",
      "source": [
        "from sklearn.linear_model import LinearRegression\n",
        "from sklearn.metrics import mean_squared_error\n",
        "import numpy as np\n",
        "\n",
        "lr_model = LinearRegression()\n",
        "lr_model.fit(X_train_scaled, y_train)\n",
        "lr_predictions = lr_model.predict(X_test_scaled)\n",
        "\n",
        "lr_rmse = np.sqrt(mean_squared_error(y_test, lr_predictions))\n",
        "lr_rmse"
      ],
      "metadata": {
        "colab": {
          "base_uri": "https://localhost:8080/"
        },
        "id": "NQPZOwc9G4eY",
        "outputId": "2d624965-f6cc-4bcb-dcd3-7d64c42d04b4"
      },
      "execution_count": 6,
      "outputs": [
        {
          "output_type": "execute_result",
          "data": {
            "text/plain": [
              "22.133728194788556"
            ]
          },
          "metadata": {},
          "execution_count": 6
        }
      ]
    },
    {
      "cell_type": "code",
      "source": [
        "from sklearn.ensemble import RandomForestRegressor\n",
        "\n",
        "rf_model = RandomForestRegressor(random_state=42, n_jobs=-1)\n",
        "rf_model.fit(X_train_scaled, y_train)\n",
        "rf_predictions = rf_model.predict(X_test_scaled)\n",
        "\n",
        "rf_rmse = np.sqrt(mean_squared_error(y_test, rf_predictions))\n",
        "rf_rmse"
      ],
      "metadata": {
        "colab": {
          "base_uri": "https://localhost:8080/"
        },
        "id": "Xh_FH2akG8bU",
        "outputId": "c47690e4-e7ac-4406-b0d2-63c00c4addc6"
      },
      "execution_count": 16,
      "outputs": [
        {
          "output_type": "execute_result",
          "data": {
            "text/plain": [
              "14.334010325083995"
            ]
          },
          "metadata": {},
          "execution_count": 16
        }
      ]
    },
    {
      "cell_type": "code",
      "source": [
        "from sklearn.svm import SVR\n",
        "\n",
        "svr_model = SVR()\n",
        "svr_model.fit(X_train_scaled, y_train)\n",
        "svr_predictions = svr_model.predict(X_test_scaled)\n",
        "\n",
        "svr_rmse = np.sqrt(mean_squared_error(y_test, svr_predictions))\n",
        "svr_rmse"
      ],
      "metadata": {
        "colab": {
          "base_uri": "https://localhost:8080/"
        },
        "id": "EYcNorp7In4q",
        "outputId": "e2b27880-ef20-446b-cf43-7711248ac36f"
      },
      "execution_count": 8,
      "outputs": [
        {
          "output_type": "execute_result",
          "data": {
            "text/plain": [
              "21.107577747824273"
            ]
          },
          "metadata": {},
          "execution_count": 8
        }
      ]
    },
    {
      "cell_type": "code",
      "source": [
        "from xgboost import XGBRegressor\n",
        "\n",
        "xgb_model = XGBRegressor(objective ='reg:squarederror', random_state=42)\n",
        "xgb_model.fit(X_train_scaled, y_train)\n",
        "xgb_predictions = xgb_model.predict(X_test_scaled)\n",
        "\n",
        "xgb_rmse = np.sqrt(mean_squared_error(y_test, xgb_predictions))\n",
        "xgb_rmse"
      ],
      "metadata": {
        "colab": {
          "base_uri": "https://localhost:8080/"
        },
        "id": "PCMPK4bYLTEd",
        "outputId": "1775b870-f7b4-43b7-b882-c89ec7949657"
      },
      "execution_count": 9,
      "outputs": [
        {
          "output_type": "execute_result",
          "data": {
            "text/plain": [
              "15.115402017590583"
            ]
          },
          "metadata": {},
          "execution_count": 9
        }
      ]
    },
    {
      "cell_type": "code",
      "source": [
        "from sklearn.neural_network import MLPRegressor\n",
        "\n",
        "nn_model = MLPRegressor(random_state=42, max_iter=1000)\n",
        "\n",
        "nn_model.fit(X_train_scaled, y_train)\n",
        "\n",
        "nn_predictions = nn_model.predict(X_test_scaled)\n",
        "\n",
        "nn_rmse = np.sqrt(mean_squared_error(y_test, nn_predictions))\n",
        "nn_rmse"
      ],
      "metadata": {
        "colab": {
          "base_uri": "https://localhost:8080/"
        },
        "id": "7pKggocYLnyo",
        "outputId": "cba64748-49bc-4975-b8fd-8a300a66ee7f"
      },
      "execution_count": 10,
      "outputs": [
        {
          "output_type": "execute_result",
          "data": {
            "text/plain": [
              "20.08591184348767"
            ]
          },
          "metadata": {},
          "execution_count": 10
        }
      ]
    }
  ]
}
